{
 "cells": [
  {
   "cell_type": "code",
   "execution_count": 4,
   "metadata": {},
   "outputs": [],
   "source": [
    "#pip install tehran_stocks\n",
    "import tehran_stocks"
   ]
  },
  {
   "cell_type": "code",
   "execution_count": 5,
   "metadata": {},
   "outputs": [
    {
     "output_type": "stream",
     "name": "stdout",
     "text": "Download Finished.\n"
    }
   ],
   "source": [
    "from tehran_stocks import get_all_price\n",
    "get_all_price()"
   ]
  },
  {
   "cell_type": "code",
   "execution_count": 8,
   "metadata": {},
   "outputs": [
    {
     "output_type": "execute_result",
     "data": {
      "text/plain": "[(10, 'استخراج زغال سنگ'),\n (11, 'استخراج نفت گاز و خدمات جنبي جز اکتشاف'),\n (13, 'استخراج کانه هاي فلزي'),\n (14, 'استخراج ساير معادن'),\n (17, 'منسوجات'),\n (19, 'دباغي، پرداخت چرم و ساخت انواع پاپوش'),\n (20, 'محصولات چوبي'),\n (21, 'محصولات كاغذي'),\n (22, 'انتشار، چاپ و تکثير'),\n (23, 'فراورده هاي نفتي، كك و سوخت هسته اي'),\n (25, 'لاستيك و پلاستيك'),\n (26, 'توليد محصولات كامپيوتري الكترونيكي ونوري'),\n (27, 'فلزات اساسي'),\n (28, 'ساخت محصولات فلزي'),\n (29, 'ماشين آلات و تجهيزات')]"
     },
     "metadata": {},
     "execution_count": 8
    }
   ],
   "source": [
    "from tehran_stocks import Stocks # we will talk about Stocks later\n",
    "Stocks.get_group()"
   ]
  },
  {
   "cell_type": "code",
   "execution_count": 15,
   "metadata": {},
   "outputs": [
    {
     "output_type": "error",
     "ename": "SyntaxError",
     "evalue": "invalid character in identifier (<ipython-input-15-9b994a0c8550>, line 2)",
     "traceback": [
      "\u001b[1;36m  File \u001b[1;32m\"<ipython-input-15-9b994a0c8550>\"\u001b[1;36m, line \u001b[1;32m2\u001b[0m\n\u001b[1;33m    update_group(10)‍\u001b[0m\n\u001b[1;37m                    ^\u001b[0m\n\u001b[1;31mSyntaxError\u001b[0m\u001b[1;31m:\u001b[0m invalid character in identifier\n"
     ]
    }
   ],
   "source": [
    "from tehran_stocks import update_group\n",
    "update_group(10)‍"
   ]
  },
  {
   "cell_type": "code",
   "execution_count": 12,
   "metadata": {},
   "outputs": [],
   "source": [
    "from tehran_stocks import Stocks"
   ]
  },
  {
   "cell_type": "code",
   "execution_count": 13,
   "metadata": {},
   "outputs": [
    {
     "output_type": "error",
     "ename": "SyntaxError",
     "evalue": "invalid character in identifier (<ipython-input-13-a4c3ef379817>, line 1)",
     "traceback": [
      "\u001b[1;36m  File \u001b[1;32m\"<ipython-input-13-a4c3ef379817>\"\u001b[1;36m, line \u001b[1;32m1\u001b[0m\n\u001b[1;33m    s‍‍tock = Stocks.query.filter_by(code='35700344742885862').first()\u001b[0m\n\u001b[1;37m          ^\u001b[0m\n\u001b[1;31mSyntaxError\u001b[0m\u001b[1;31m:\u001b[0m invalid character in identifier\n"
     ]
    }
   ],
   "source": [
    "s‍‍tock = Stocks.query.filter_by(code='35700344742885862').first()\n",
    "\n",
    "stock = Stocks.query.filter_by(name='کگل').first()\n",
    "\n",
    "stock = Stocks.query.filter(Stocks.title.like'%گل گهر%').first() #its based on sqlalchemy"
   ]
  },
  {
   "cell_type": "code",
   "execution_count": 28,
   "metadata": {},
   "outputs": [
    {
     "output_type": "stream",
     "name": "stdout",
     "text": "Download Finished.\nMake sure group has some entity on Stocks\n"
    },
    {
     "output_type": "execute_result",
     "data": {
      "text/plain": "[(10, 'استخراج زغال سنگ'),\n (11, 'استخراج نفت گاز و خدمات جنبي جز اکتشاف'),\n (13, 'استخراج کانه هاي فلزي'),\n (14, 'استخراج ساير معادن'),\n (17, 'منسوجات'),\n (19, 'دباغي، پرداخت چرم و ساخت انواع پاپوش'),\n (20, 'محصولات چوبي'),\n (21, 'محصولات كاغذي'),\n (22, 'انتشار، چاپ و تکثير'),\n (23, 'فراورده هاي نفتي، كك و سوخت هسته اي'),\n (25, 'لاستيك و پلاستيك'),\n (26, 'توليد محصولات كامپيوتري الكترونيكي ونوري'),\n (27, 'فلزات اساسي'),\n (28, 'ساخت محصولات فلزي'),\n (29, 'ماشين آلات و تجهيزات')]"
     },
     "metadata": {},
     "execution_count": 28
    }
   ],
   "source": [
    "from tehran_stocks import get_all_price, Stocks, update_group\n",
    "\n",
    "get_all_price() # download and(or) update all prices\n",
    "\n",
    "update_group(34) #download and(or) update Stocks in groupCode = 34 (Cars)\n",
    "\n",
    "Stocks.get_group() # to see list of group codes"
   ]
  },
  {
   "cell_type": "code",
   "execution_count": 29,
   "metadata": {},
   "outputs": [
    {
     "output_type": "execute_result",
     "data": {
      "text/plain": "[(10, 'استخراج زغال سنگ'),\n (14, 'استخراج ساير معادن'),\n (11, 'استخراج نفت گاز و خدمات جنبي جز اکتشاف'),\n (13, 'استخراج کانه هاي فلزي'),\n (22, 'انتشار، چاپ و تکثير'),\n (26, 'توليد محصولات كامپيوتري الكترونيكي ونوري'),\n (19, 'دباغي، پرداخت چرم و ساخت انواع پاپوش'),\n (28, 'ساخت محصولات فلزي'),\n (23, 'فراورده هاي نفتي، كك و سوخت هسته اي'),\n (27, 'فلزات اساسي'),\n (25, 'لاستيك و پلاستيك'),\n (29, 'ماشين آلات و تجهيزات'),\n (21, 'محصولات كاغذي'),\n (20, 'محصولات چوبي'),\n (17, 'منسوجات')]"
     },
     "metadata": {},
     "execution_count": 29
    }
   ],
   "source": [
    "from tehran_stocks import Stocks, db\n",
    "\n",
    "# You can use query to find stocks\n",
    "stock = Stocks.query.filter_by(name='كگل').first() #find by symbol(نماد)\n",
    "\n",
    "stock = Stocks.query.filter_by(code='35700344742885862').first() # find by code on tsetmc url\n",
    "\n",
    "stock = Stocks.query.filter(Stocks.title.like('%گل گهر%')).first() # Search by title\n",
    "\n",
    "stock_list = Stocks.query.filter_by(group_code =34).all() # find all Stocks in Khodro\n",
    "\n",
    "stock_list = Stocks.query.filter(Stocks.group_code.in_([13,34])).all() # all stocks in khodro and felezat\n",
    "\n",
    "\n",
    "## (Advanced)or run sql query using orm or raw sql\n",
    "db.session.query(Stocks.group_code, Stocks.group_name).group_by(Stocks.group_code).all()\n",
    "\n",
    "db.session.execute('select group_code , group_name from stocks group by group_name').fetchall()"
   ]
  },
  {
   "cell_type": "code",
   "execution_count": 27,
   "metadata": {},
   "outputs": [
    {
     "output_type": "execute_result",
     "data": {
      "text/plain": "                id               code        ticker  dtyyyymmdd date_shamsi  \\\ndate                                                                          \n2004-08-29  187237  35700344742885862  Gol-E-Gohar.    20040829  1383/06/08   \n2004-09-04  187236  35700344742885862  Gol-E-Gohar.    20040904  1383/06/14   \n2004-09-05  187235  35700344742885862  Gol-E-Gohar.    20040905  1383/06/15   \n2004-09-07  187234  35700344742885862  Gol-E-Gohar.    20040907  1383/06/17   \n2004-09-08  187233  35700344742885862  Gol-E-Gohar.    20040908  1383/06/18   \n...            ...                ...           ...         ...         ...   \n2020-05-19  184058  35700344742885862  Gol-E-Gohar.    20200519  1399/02/30   \n2020-05-20  184057  35700344742885862  Gol-E-Gohar.    20200520  1399/02/31   \n2020-05-23  184056  35700344742885862  Gol-E-Gohar.    20200523  1399/03/03   \n2020-05-26  184055  35700344742885862  Gol-E-Gohar.    20200526  1399/03/06   \n2020-05-27  184054  35700344742885862  Gol-E-Gohar.    20200527  1399/03/07   \n\n              first     high      low    close         value       vol  \\\ndate                                                                     \n2004-08-29  12000.0  12021.0  12000.0  12000.0   18841605000   1570000   \n2004-09-04  12600.0  12600.0  12600.0  12600.0   12600000000   1000000   \n2004-09-05  13230.0  13230.0   7115.0  13230.0   34449329770   2708823   \n2004-09-07  13891.0  13891.0  13891.0  13891.0   41395180000   2980000   \n2004-09-08  14585.0  14585.0  14585.0  14585.0   20305659965   1392229   \n...             ...      ...      ...      ...           ...       ...   \n2020-05-19  15620.0  15620.0  14206.0  14493.0  576589876432  39784559   \n2020-05-20  13950.0  14238.0  13769.0  13789.0  486141435315  35254979   \n2020-05-23  13100.0  13590.0  13100.0  13110.0  215551453222  16441752   \n2020-05-26  12455.0  13100.0  12455.0  12460.0  177446774263  14241490   \n2020-05-27  11841.0  13083.0  11841.0  12845.0  263603010627  20521570   \n\n            openint per     open     last  \ndate                                       \n2004-08-29     2708   D  12000.0  12000.0  \n2004-09-04      849   D  12000.0  12600.0  \n2004-09-05     3887   D  12600.0  13230.0  \n2004-09-07      996   D  13230.0  13891.0  \n2004-09-08      409   D  13891.0  14585.0  \n...             ...  ..      ...      ...  \n2020-05-19     8602   D  14953.0  14206.0  \n2020-05-20     5149   D  14493.0  13780.0  \n2020-05-23     3573   D  13789.0  13100.0  \n2020-05-26     2798   D  13102.0  12455.0  \n2020-05-27     4184   D  12460.0  13083.0  \n\n[3184 rows x 15 columns]",
      "text/html": "<div>\n<style scoped>\n    .dataframe tbody tr th:only-of-type {\n        vertical-align: middle;\n    }\n\n    .dataframe tbody tr th {\n        vertical-align: top;\n    }\n\n    .dataframe thead th {\n        text-align: right;\n    }\n</style>\n<table border=\"1\" class=\"dataframe\">\n  <thead>\n    <tr style=\"text-align: right;\">\n      <th></th>\n      <th>id</th>\n      <th>code</th>\n      <th>ticker</th>\n      <th>dtyyyymmdd</th>\n      <th>date_shamsi</th>\n      <th>first</th>\n      <th>high</th>\n      <th>low</th>\n      <th>close</th>\n      <th>value</th>\n      <th>vol</th>\n      <th>openint</th>\n      <th>per</th>\n      <th>open</th>\n      <th>last</th>\n    </tr>\n    <tr>\n      <th>date</th>\n      <th></th>\n      <th></th>\n      <th></th>\n      <th></th>\n      <th></th>\n      <th></th>\n      <th></th>\n      <th></th>\n      <th></th>\n      <th></th>\n      <th></th>\n      <th></th>\n      <th></th>\n      <th></th>\n      <th></th>\n    </tr>\n  </thead>\n  <tbody>\n    <tr>\n      <th>2004-08-29</th>\n      <td>187237</td>\n      <td>35700344742885862</td>\n      <td>Gol-E-Gohar.</td>\n      <td>20040829</td>\n      <td>1383/06/08</td>\n      <td>12000.0</td>\n      <td>12021.0</td>\n      <td>12000.0</td>\n      <td>12000.0</td>\n      <td>18841605000</td>\n      <td>1570000</td>\n      <td>2708</td>\n      <td>D</td>\n      <td>12000.0</td>\n      <td>12000.0</td>\n    </tr>\n    <tr>\n      <th>2004-09-04</th>\n      <td>187236</td>\n      <td>35700344742885862</td>\n      <td>Gol-E-Gohar.</td>\n      <td>20040904</td>\n      <td>1383/06/14</td>\n      <td>12600.0</td>\n      <td>12600.0</td>\n      <td>12600.0</td>\n      <td>12600.0</td>\n      <td>12600000000</td>\n      <td>1000000</td>\n      <td>849</td>\n      <td>D</td>\n      <td>12000.0</td>\n      <td>12600.0</td>\n    </tr>\n    <tr>\n      <th>2004-09-05</th>\n      <td>187235</td>\n      <td>35700344742885862</td>\n      <td>Gol-E-Gohar.</td>\n      <td>20040905</td>\n      <td>1383/06/15</td>\n      <td>13230.0</td>\n      <td>13230.0</td>\n      <td>7115.0</td>\n      <td>13230.0</td>\n      <td>34449329770</td>\n      <td>2708823</td>\n      <td>3887</td>\n      <td>D</td>\n      <td>12600.0</td>\n      <td>13230.0</td>\n    </tr>\n    <tr>\n      <th>2004-09-07</th>\n      <td>187234</td>\n      <td>35700344742885862</td>\n      <td>Gol-E-Gohar.</td>\n      <td>20040907</td>\n      <td>1383/06/17</td>\n      <td>13891.0</td>\n      <td>13891.0</td>\n      <td>13891.0</td>\n      <td>13891.0</td>\n      <td>41395180000</td>\n      <td>2980000</td>\n      <td>996</td>\n      <td>D</td>\n      <td>13230.0</td>\n      <td>13891.0</td>\n    </tr>\n    <tr>\n      <th>2004-09-08</th>\n      <td>187233</td>\n      <td>35700344742885862</td>\n      <td>Gol-E-Gohar.</td>\n      <td>20040908</td>\n      <td>1383/06/18</td>\n      <td>14585.0</td>\n      <td>14585.0</td>\n      <td>14585.0</td>\n      <td>14585.0</td>\n      <td>20305659965</td>\n      <td>1392229</td>\n      <td>409</td>\n      <td>D</td>\n      <td>13891.0</td>\n      <td>14585.0</td>\n    </tr>\n    <tr>\n      <th>...</th>\n      <td>...</td>\n      <td>...</td>\n      <td>...</td>\n      <td>...</td>\n      <td>...</td>\n      <td>...</td>\n      <td>...</td>\n      <td>...</td>\n      <td>...</td>\n      <td>...</td>\n      <td>...</td>\n      <td>...</td>\n      <td>...</td>\n      <td>...</td>\n      <td>...</td>\n    </tr>\n    <tr>\n      <th>2020-05-19</th>\n      <td>184058</td>\n      <td>35700344742885862</td>\n      <td>Gol-E-Gohar.</td>\n      <td>20200519</td>\n      <td>1399/02/30</td>\n      <td>15620.0</td>\n      <td>15620.0</td>\n      <td>14206.0</td>\n      <td>14493.0</td>\n      <td>576589876432</td>\n      <td>39784559</td>\n      <td>8602</td>\n      <td>D</td>\n      <td>14953.0</td>\n      <td>14206.0</td>\n    </tr>\n    <tr>\n      <th>2020-05-20</th>\n      <td>184057</td>\n      <td>35700344742885862</td>\n      <td>Gol-E-Gohar.</td>\n      <td>20200520</td>\n      <td>1399/02/31</td>\n      <td>13950.0</td>\n      <td>14238.0</td>\n      <td>13769.0</td>\n      <td>13789.0</td>\n      <td>486141435315</td>\n      <td>35254979</td>\n      <td>5149</td>\n      <td>D</td>\n      <td>14493.0</td>\n      <td>13780.0</td>\n    </tr>\n    <tr>\n      <th>2020-05-23</th>\n      <td>184056</td>\n      <td>35700344742885862</td>\n      <td>Gol-E-Gohar.</td>\n      <td>20200523</td>\n      <td>1399/03/03</td>\n      <td>13100.0</td>\n      <td>13590.0</td>\n      <td>13100.0</td>\n      <td>13110.0</td>\n      <td>215551453222</td>\n      <td>16441752</td>\n      <td>3573</td>\n      <td>D</td>\n      <td>13789.0</td>\n      <td>13100.0</td>\n    </tr>\n    <tr>\n      <th>2020-05-26</th>\n      <td>184055</td>\n      <td>35700344742885862</td>\n      <td>Gol-E-Gohar.</td>\n      <td>20200526</td>\n      <td>1399/03/06</td>\n      <td>12455.0</td>\n      <td>13100.0</td>\n      <td>12455.0</td>\n      <td>12460.0</td>\n      <td>177446774263</td>\n      <td>14241490</td>\n      <td>2798</td>\n      <td>D</td>\n      <td>13102.0</td>\n      <td>12455.0</td>\n    </tr>\n    <tr>\n      <th>2020-05-27</th>\n      <td>184054</td>\n      <td>35700344742885862</td>\n      <td>Gol-E-Gohar.</td>\n      <td>20200527</td>\n      <td>1399/03/07</td>\n      <td>11841.0</td>\n      <td>13083.0</td>\n      <td>11841.0</td>\n      <td>12845.0</td>\n      <td>263603010627</td>\n      <td>20521570</td>\n      <td>4184</td>\n      <td>D</td>\n      <td>12460.0</td>\n      <td>13083.0</td>\n    </tr>\n  </tbody>\n</table>\n<p>3184 rows × 15 columns</p>\n</div>"
     },
     "metadata": {},
     "execution_count": 27
    }
   ],
   "source": [
    "# use data as a pandas dataframe\n",
    "stock.df #\n",
    "\n"
   ]
  },
  {
   "cell_type": "code",
   "execution_count": 35,
   "metadata": {},
   "outputs": [
    {
     "output_type": "error",
     "ename": "AttributeError",
     "evalue": "'DataFrame' object has no attribute 'date'",
     "traceback": [
      "\u001b[1;31m---------------------------------------------------------------------------\u001b[0m",
      "\u001b[1;31mAttributeError\u001b[0m                            Traceback (most recent call last)",
      "\u001b[1;32m<ipython-input-35-210ff8d0e304>\u001b[0m in \u001b[0;36m<module>\u001b[1;34m\u001b[0m\n\u001b[1;32m----> 1\u001b[1;33m \u001b[0mstock\u001b[0m\u001b[1;33m.\u001b[0m\u001b[0msummary\u001b[0m\u001b[1;33m(\u001b[0m\u001b[1;33m)\u001b[0m\u001b[1;33m\u001b[0m\u001b[1;33m\u001b[0m\u001b[0m\n\u001b[0m",
      "\u001b[1;32m~\\AppData\\Local\\Programs\\Python\\Python38\\lib\\site-packages\\tehran_stocks\\models\\stocks.py\u001b[0m in \u001b[0;36msummary\u001b[1;34m(self)\u001b[0m\n\u001b[0;32m     61\u001b[0m     \u001b[1;32mdef\u001b[0m \u001b[0msummary\u001b[0m\u001b[1;33m(\u001b[0m\u001b[0mself\u001b[0m\u001b[1;33m)\u001b[0m\u001b[1;33m:\u001b[0m\u001b[1;33m\u001b[0m\u001b[1;33m\u001b[0m\u001b[0m\n\u001b[0;32m     62\u001b[0m         \u001b[0mdf\u001b[0m \u001b[1;33m=\u001b[0m \u001b[0mself\u001b[0m\u001b[1;33m.\u001b[0m\u001b[0mdf\u001b[0m\u001b[1;33m\u001b[0m\u001b[1;33m\u001b[0m\u001b[0m\n\u001b[1;32m---> 63\u001b[1;33m         \u001b[0msdate\u001b[0m \u001b[1;33m=\u001b[0m \u001b[0mdf\u001b[0m\u001b[1;33m.\u001b[0m\u001b[0mdate\u001b[0m\u001b[1;33m.\u001b[0m\u001b[0mmin\u001b[0m\u001b[1;33m(\u001b[0m\u001b[1;33m)\u001b[0m\u001b[1;33m.\u001b[0m\u001b[0mstrftime\u001b[0m\u001b[1;33m(\u001b[0m\u001b[1;34m\"%Y%m%d\"\u001b[0m\u001b[1;33m)\u001b[0m\u001b[1;33m\u001b[0m\u001b[1;33m\u001b[0m\u001b[0m\n\u001b[0m\u001b[0;32m     64\u001b[0m         \u001b[0medate\u001b[0m \u001b[1;33m=\u001b[0m \u001b[0mdf\u001b[0m\u001b[1;33m.\u001b[0m\u001b[0mdate\u001b[0m\u001b[1;33m.\u001b[0m\u001b[0mmax\u001b[0m\u001b[1;33m(\u001b[0m\u001b[1;33m)\u001b[0m\u001b[1;33m.\u001b[0m\u001b[0mstrftime\u001b[0m\u001b[1;33m(\u001b[0m\u001b[1;34m\"%Y%m%d\"\u001b[0m\u001b[1;33m)\u001b[0m\u001b[1;33m\u001b[0m\u001b[1;33m\u001b[0m\u001b[0m\n\u001b[0;32m     65\u001b[0m \u001b[1;33m\u001b[0m\u001b[0m\n",
      "\u001b[1;32m~\\AppData\\Local\\Programs\\Python\\Python38\\lib\\site-packages\\pandas\\core\\generic.py\u001b[0m in \u001b[0;36m__getattr__\u001b[1;34m(self, name)\u001b[0m\n\u001b[0;32m   5272\u001b[0m             \u001b[1;32mif\u001b[0m \u001b[0mself\u001b[0m\u001b[1;33m.\u001b[0m\u001b[0m_info_axis\u001b[0m\u001b[1;33m.\u001b[0m\u001b[0m_can_hold_identifiers_and_holds_name\u001b[0m\u001b[1;33m(\u001b[0m\u001b[0mname\u001b[0m\u001b[1;33m)\u001b[0m\u001b[1;33m:\u001b[0m\u001b[1;33m\u001b[0m\u001b[1;33m\u001b[0m\u001b[0m\n\u001b[0;32m   5273\u001b[0m                 \u001b[1;32mreturn\u001b[0m \u001b[0mself\u001b[0m\u001b[1;33m[\u001b[0m\u001b[0mname\u001b[0m\u001b[1;33m]\u001b[0m\u001b[1;33m\u001b[0m\u001b[1;33m\u001b[0m\u001b[0m\n\u001b[1;32m-> 5274\u001b[1;33m             \u001b[1;32mreturn\u001b[0m \u001b[0mobject\u001b[0m\u001b[1;33m.\u001b[0m\u001b[0m__getattribute__\u001b[0m\u001b[1;33m(\u001b[0m\u001b[0mself\u001b[0m\u001b[1;33m,\u001b[0m \u001b[0mname\u001b[0m\u001b[1;33m)\u001b[0m\u001b[1;33m\u001b[0m\u001b[1;33m\u001b[0m\u001b[0m\n\u001b[0m\u001b[0;32m   5275\u001b[0m \u001b[1;33m\u001b[0m\u001b[0m\n\u001b[0;32m   5276\u001b[0m     \u001b[1;32mdef\u001b[0m \u001b[0m__setattr__\u001b[0m\u001b[1;33m(\u001b[0m\u001b[0mself\u001b[0m\u001b[1;33m,\u001b[0m \u001b[0mname\u001b[0m\u001b[1;33m:\u001b[0m \u001b[0mstr\u001b[0m\u001b[1;33m,\u001b[0m \u001b[0mvalue\u001b[0m\u001b[1;33m)\u001b[0m \u001b[1;33m->\u001b[0m \u001b[1;32mNone\u001b[0m\u001b[1;33m:\u001b[0m\u001b[1;33m\u001b[0m\u001b[1;33m\u001b[0m\u001b[0m\n",
      "\u001b[1;31mAttributeError\u001b[0m: 'DataFrame' object has no attribute 'date'"
     ]
    }
   ],
   "source": [
    "\n",
    "stock.summary()\n"
   ]
  },
  {
   "cell_type": "code",
   "execution_count": 31,
   "metadata": {},
   "outputs": [
    {
     "output_type": "execute_result",
     "data": {
      "text/plain": "(True, '35700344742885862')"
     },
     "metadata": {},
     "execution_count": 31
    }
   ],
   "source": [
    "stock.update()\n",
    "# update stock price history\n",
    "\n",
    "# Export to your preferred format\n"
   ]
  },
  {
   "cell_type": "code",
   "execution_count": 32,
   "metadata": {},
   "outputs": [],
   "source": [
    "stock.df.to_csv('price.csv')\n",
    "#stock.df.to_excel('price.xlsx')\n",
    "#stock.df.to_stata('price.dta')"
   ]
  },
  {
   "cell_type": "code",
   "execution_count": null,
   "metadata": {},
   "outputs": [],
   "source": []
  }
 ],
 "metadata": {
  "language_info": {
   "codemirror_mode": {
    "name": "ipython",
    "version": 3
   },
   "file_extension": ".py",
   "mimetype": "text/x-python",
   "name": "python",
   "nbconvert_exporter": "python",
   "pygments_lexer": "ipython3",
   "version": "3.8.0-final"
  },
  "orig_nbformat": 2,
  "kernelspec": {
   "name": "python38064bit414f8a9b702649a5aed667941eb3f24d",
   "display_name": "Python 3.8.0 64-bit"
  }
 },
 "nbformat": 4,
 "nbformat_minor": 2
}